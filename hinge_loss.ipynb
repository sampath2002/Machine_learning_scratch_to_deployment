{
  "nbformat": 4,
  "nbformat_minor": 0,
  "metadata": {
    "colab": {
      "provenance": [],
      "authorship_tag": "ABX9TyOhK5QBXQzLyCSISWdgXp/K",
      "include_colab_link": true
    },
    "kernelspec": {
      "name": "python3",
      "display_name": "Python 3"
    },
    "language_info": {
      "name": "python"
    }
  },
  "cells": [
    {
      "cell_type": "markdown",
      "metadata": {
        "id": "view-in-github",
        "colab_type": "text"
      },
      "source": [
        "<a href=\"https://colab.research.google.com/github/sampath2002/Machine_learning_scratch_to_deployment/blob/REGRESSION_MODELS/hinge_loss.ipynb\" target=\"_parent\"><img src=\"https://colab.research.google.com/assets/colab-badge.svg\" alt=\"Open In Colab\"/></a>"
      ]
    },
    {
      "cell_type": "code",
      "execution_count": 12,
      "metadata": {
        "colab": {
          "base_uri": "https://localhost:8080/"
        },
        "id": "yUmDAi1-Cy-n",
        "outputId": "019cd8f7-9784-4857-a5e7-b8e4ce5b33ed"
      },
      "outputs": [
        {
          "output_type": "stream",
          "name": "stdout",
          "text": [
            "0 [2 3]\n",
            "1 [1 1]\n",
            "2 [2 1]\n",
            "3 [5 6]\n",
            "4 [6 8]\n",
            "5 [7 7]\n",
            "0 [2 3]\n",
            "1 [1 1]\n",
            "2 [2 1]\n",
            "3 [5 6]\n",
            "4 [6 8]\n",
            "5 [7 7]\n",
            "0 [2 3]\n",
            "1 [1 1]\n",
            "2 [2 1]\n",
            "3 [5 6]\n",
            "4 [6 8]\n",
            "5 [7 7]\n",
            "0 [2 3]\n",
            "1 [1 1]\n",
            "2 [2 1]\n",
            "3 [5 6]\n",
            "4 [6 8]\n",
            "5 [7 7]\n",
            "0 [2 3]\n",
            "1 [1 1]\n",
            "2 [2 1]\n",
            "3 [5 6]\n",
            "4 [6 8]\n",
            "5 [7 7]\n",
            "0 [2 3]\n",
            "1 [1 1]\n",
            "2 [2 1]\n",
            "3 [5 6]\n",
            "4 [6 8]\n",
            "5 [7 7]\n",
            "0 [2 3]\n",
            "1 [1 1]\n",
            "2 [2 1]\n",
            "3 [5 6]\n",
            "4 [6 8]\n",
            "5 [7 7]\n",
            "0 [2 3]\n",
            "1 [1 1]\n",
            "2 [2 1]\n",
            "3 [5 6]\n",
            "4 [6 8]\n",
            "5 [7 7]\n",
            "0 [2 3]\n",
            "1 [1 1]\n",
            "2 [2 1]\n",
            "3 [5 6]\n",
            "4 [6 8]\n",
            "5 [7 7]\n",
            "0 [2 3]\n",
            "1 [1 1]\n",
            "2 [2 1]\n",
            "3 [5 6]\n",
            "4 [6 8]\n",
            "5 [7 7]\n",
            "Predictions: [1. 1. 1. 1. 1. 1.]\n",
            "Hinge Loss: 0.8784809809763057\n"
          ]
        }
      ],
      "source": [
        "import numpy as np\n",
        "\n",
        "class SVMHingeLoss:\n",
        "    def __init__(self, learning_rate=0.001, lambda_param=0.01, n_iters=1000):\n",
        "        self.learning_rate = learning_rate\n",
        "        self.lambda_param = lambda_param\n",
        "        self.n_iters = n_iters\n",
        "        self.w = None\n",
        "        self.b = None\n",
        "\n",
        "    def fit(self, X, y):\n",
        "        n_samples, n_features = X.shape\n",
        "        y_ = np.where(y <= 0, -1, 1)  # Ensure labels are -1 or 1\n",
        "\n",
        "        self.w = np.zeros(n_features)\n",
        "        self.b = 0\n",
        "\n",
        "        for _ in range(self.n_iters):\n",
        "            for idx, x_i in enumerate(X):\n",
        "                print(idx, x_i)\n",
        "                condition = y_[idx] * (np.dot(x_i, self.w) + self.b) >= 1\n",
        "                if condition:\n",
        "                    # Only regularization gradient\n",
        "                    self.w -= self.learning_rate * (2 * self.lambda_param * self.w)\n",
        "                else:\n",
        "                    # Hinge loss + regularization gradient\n",
        "                    self.w -= self.learning_rate * (2 * self.lambda_param * self.w - np.dot(x_i, y_[idx]))\n",
        "                    self.b -= self.learning_rate * (-y_[idx])\n",
        "\n",
        "    def predict(self, X):\n",
        "        approx = np.dot(X, self.w) + self.b\n",
        "        return np.sign(approx)\n",
        "\n",
        "    def hinge_loss(self, X, y):\n",
        "        y_ = np.where(y <= 0, -1, 1)\n",
        "        distances = 1 - y_ * (np.dot(X, self.w) + self.b)\n",
        "        losses = np.maximum(0, distances)\n",
        "        return np.mean(losses) + self.lambda_param * np.dot(self.w, self.w)\n",
        "\n",
        "# Example usage:\n",
        "if __name__ == \"__main__\":\n",
        "    # Dummy data (binary classification)\n",
        "    X = np.array([[2, 3], [1, 1], [2, 1], [5, 6], [6, 8], [7, 7]])\n",
        "    y = np.array([1, -1, -1, 1, 1, -1])\n",
        "\n",
        "    model = SVMHingeLoss(learning_rate=0.001, lambda_param=0.01, n_iters=10)\n",
        "    model.fit(X, y)\n",
        "    predictions = model.predict(X)\n",
        "    loss = model.hinge_loss(X, y)\n",
        "\n",
        "    print(\"Predictions:\", predictions)\n",
        "    print(\"Hinge Loss:\", loss)"
      ]
    }
  ]
}
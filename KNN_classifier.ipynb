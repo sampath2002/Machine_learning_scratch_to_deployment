{
  "nbformat": 4,
  "nbformat_minor": 0,
  "metadata": {
    "colab": {
      "provenance": [],
      "authorship_tag": "ABX9TyO3PxJev6FbPFF/wbB0k79W",
      "include_colab_link": true
    },
    "kernelspec": {
      "name": "python3",
      "display_name": "Python 3"
    },
    "language_info": {
      "name": "python"
    }
  },
  "cells": [
    {
      "cell_type": "markdown",
      "metadata": {
        "id": "view-in-github",
        "colab_type": "text"
      },
      "source": [
        "<a href=\"https://colab.research.google.com/github/sampath2002/Machine_learning_scratch_to_deployment/blob/REGRESSION_MODELS/KNN_classifier.ipynb\" target=\"_parent\"><img src=\"https://colab.research.google.com/assets/colab-badge.svg\" alt=\"Open In Colab\"/></a>"
      ]
    },
    {
      "cell_type": "code",
      "execution_count": 2,
      "metadata": {
        "colab": {
          "base_uri": "https://localhost:8080/"
        },
        "id": "Urdyet2tP6iT",
        "outputId": "8a6af554-7caa-4d18-9f5f-7a98369e85d4"
      },
      "outputs": [
        {
          "output_type": "stream",
          "name": "stdout",
          "text": [
            "Predictions: [0 1]\n"
          ]
        }
      ],
      "source": [
        "import numpy as np\n",
        "from collections import Counter\n",
        "\n",
        "class KNNClassifier:\n",
        "    def __init__(self, k=3):\n",
        "        self.k = k\n",
        "\n",
        "    def fit(self, X, y):\n",
        "        self.X_train = X\n",
        "        self.y_train = y\n",
        "\n",
        "    def predict(self, X):\n",
        "        predictions = []\n",
        "        for x in X:\n",
        "            # Compute distances from x to all training samples\n",
        "            distances = np.linalg.norm(self.X_train - x, axis=1)\n",
        "            # Find the indices of the k nearest neighbors\n",
        "            k_indices = distances.argsort()[:self.k]\n",
        "            # Get the labels of the k nearest neighbors\n",
        "            k_neighbor_labels = self.y_train[k_indices]\n",
        "            # Majority vote\n",
        "            majority_label = Counter(k_neighbor_labels).most_common(1)[0][0]\n",
        "            predictions.append(majority_label)\n",
        "        return np.array(predictions)\n",
        "\n",
        "# Example usage:\n",
        "if __name__ == \"__main__\":\n",
        "    # Dummy data\n",
        "    X_train = np.array([[1,2], [2,3], [3,4], [6,7]])\n",
        "    y_train = np.array([0, 0, 1, 1])\n",
        "    X_test = np.array([[2,2], [5,5]])\n",
        "\n",
        "    clf = KNNClassifier(k=3)\n",
        "    clf.fit(X_train, y_train)\n",
        "    preds = clf.predict(X_test)\n",
        "    print(\"Predictions:\", preds)"
      ]
    }
  ]
}